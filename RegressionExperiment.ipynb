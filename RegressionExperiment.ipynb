{
 "cells": [
  {
   "cell_type": "code",
   "execution_count": 1,
   "metadata": {
    "collapsed": true
   },
   "outputs": [],
   "source": [
    "#coding: utf-8"
   ]
  },
  {
   "cell_type": "code",
   "execution_count": 2,
   "metadata": {
    "collapsed": false
   },
   "outputs": [],
   "source": [
    "import math\n",
    "import numpy as np\n",
    "\n",
    "from sklearn.externals.joblib import Memory\n",
    "from sklearn.datasets import load_svmlight_file\n",
    "from sklearn.metrics import classification_report\n",
    "\n",
    "from numpy import random\n",
    "import random as rd\n",
    "\n",
    "import matplotlib as mpl\n",
    "import matplotlib.pyplot as plt"
   ]
  },
  {
   "cell_type": "code",
   "execution_count": 3,
   "metadata": {
    "collapsed": true
   },
   "outputs": [],
   "source": [
    "def get_data(filename):\n",
    "    data = load_svmlight_file(filename)\n",
    "    return data[0], data[1]"
   ]
  },
  {
   "cell_type": "code",
   "execution_count": 4,
   "metadata": {
    "collapsed": false
   },
   "outputs": [
    {
     "name": "stdout",
     "output_type": "stream",
     "text": [
      "(32561, 123)\n",
      "(32561,)\n",
      "(16281, 122)\n",
      "(16281,)\n",
      "<class 'numpy.ndarray'>\n",
      "<class 'numpy.ndarray'>\n"
     ]
    }
   ],
   "source": [
    "iters = 500\n",
    "\n",
    "X_train, y_train = get_data(\"a9a.txt\")\n",
    "X_test, y_test = get_data(\"a9a.t.txt\")\n",
    "\n",
    "X_train = X_train.toarray()\n",
    "X_test = X_test.toarray()\n",
    "\n",
    "y_train[y_train < 0] = 0\n",
    "y_test[y_test < 0] = 0\n",
    "\n",
    "print(X_train.shape)\n",
    "print(y_train.shape)\n",
    "\n",
    "print(X_test.shape)\n",
    "print(y_test.shape)\n",
    "\n",
    "print(type(X_train))\n",
    "print(type(y_train))"
   ]
  },
  {
   "cell_type": "code",
   "execution_count": 5,
   "metadata": {
    "collapsed": true
   },
   "outputs": [],
   "source": [
    "def predict(X, weight):\n",
    "    threshold = 0.5\n",
    "    app = np.ones(X.shape[0]).reshape(-1, 1)\n",
    "    app_zeors = np.zeros(X_test.shape[0]).reshape(-1, 1)\n",
    "\n",
    "    X = np.append(X,app,axis=1)\n",
    "    X = np.append(X,app_zeors,axis=1)\n",
    "    z = np.dot(X, weight)\n",
    "    e = math.e * np.ones(z.shape)\n",
    "    y_ = 1 / (1 + np.power(e, -z))\n",
    "\n",
    "    y_[y_ >= threshold] = 1\n",
    "    y_[y_ < threshold] = 0\n",
    "    return y_"
   ]
  },
  {
   "cell_type": "code",
   "execution_count": 6,
   "metadata": {
    "collapsed": false
   },
   "outputs": [],
   "source": [
    "def train_in_gd(X_train, y_train, X_test, y_test):\n",
    "    a = 0.1\n",
    "    percent = 0.2\n",
    "    id_list = [x for x in range(0, X_train.shape[0])]\n",
    "    \n",
    "    train_loss = []\n",
    "    test_loss = []\n",
    "    \n",
    "    app = np.ones(X_train.shape[0]).reshape(-1, 1)\n",
    "    X_train = np.append(X_train,app,axis=1)\n",
    "    \n",
    "    app_test = np.ones(X_test.shape[0]).reshape(-1, 1)\n",
    "    app_test_zeors = np.zeros(X_test.shape[0]).reshape(-1, 1)\n",
    "    X_test = np.append(X_test,app_test_zeors,axis=1)\n",
    "    X_test = np.append(X_test,app_test,axis=1)\n",
    "    weight = random.random(size=(X_train.shape[1], 1))\n",
    "    for i in range(iters):\n",
    "        id_ = rd.sample(id_list, int(X_train.shape[0] * percent)) \n",
    "        X_train_sub = X_train[id_]\n",
    "        y_train_sub = y_train[id_]\n",
    "        \n",
    "        z = np.dot(X_train, weight)\n",
    "        e = math.e * np.ones(z.shape)\n",
    "        y_ = 1 / (1 + np.power(e, -z))\n",
    "        loss = (y_train.reshape(-1, 1) * np.log(y_)) + ((1 - y_train.reshape(-1, 1)) * np.log(1 - y_))\n",
    "        loss = -(np.mean(loss))\n",
    "        train_loss.append(loss)\n",
    "        #print(loss)\n",
    "        z_test = np.dot(X_test, weight)\n",
    "        e_test = math.e * np.ones(z_test.shape)\n",
    "        ytest_ = 1 / (1 + np.power(e_test, -z_test))\n",
    "        loss_ = (y_test.reshape(-1, 1) * np.log(ytest_)) + ((1 - y_test.reshape(-1, 1)) * np.log(1 - ytest_))\n",
    "        loss_ = -(np.mean(loss_))\n",
    "        test_loss.append(loss_)\n",
    "\n",
    "        z = np.dot(X_train_sub, weight)\n",
    "        e = math.e * np.ones(z.shape)\n",
    "        y_ = 1 / (1 + np.power(e, -z))\n",
    "        \n",
    "        d = (y_ - y_train_sub.reshape(-1, 1)) * X_train_sub\n",
    "        d = np.mean(d, axis=0)\n",
    "\n",
    "        weight = weight - a * d.reshape(-1, 1)\n",
    "        #print(weight[0][0])\n",
    "    return train_loss, test_loss, weight"
   ]
  },
  {
   "cell_type": "code",
   "execution_count": 7,
   "metadata": {
    "collapsed": false
   },
   "outputs": [],
   "source": [
    "train_loss_gd, test_loss_gd, weight_gd = train_in_gd(X_train, y_train, X_test, y_test)"
   ]
  },
  {
   "cell_type": "code",
   "execution_count": 8,
   "metadata": {
    "collapsed": false
   },
   "outputs": [
    {
     "data": {
      "image/png": "[encoded data removed]",
      "text/plain": [
       "<matplotlib.figure.Figure at 0x140dbf23320>"
      ]
     },
     "metadata": {},
     "output_type": "display_data"
    }
   ],
   "source": [
    "%matplotlib inline\n",
    "plot_x = np.linspace(1, iters, iters)\n",
    "train_loss_gd = np.array(train_loss_gd)\n",
    "dev_loss_gd = np.array(test_loss_gd)\n",
    "plt.figure(1)\n",
    "plt.plot(plot_x, train_loss_gd, label=\"training loss\")\n",
    "plt.plot(plot_x, dev_loss_gd, label=\"test loss\")\n",
    "plt.legend(loc=\"upper right\")\n",
    "plt.xlabel('Iterations')\n",
    "plt.ylabel('Loss')\n",
    "plt.show()"
   ]
  },
  {
   "cell_type": "code",
   "execution_count": 9,
   "metadata": {
    "collapsed": false
   },
   "outputs": [
    {
     "name": "stdout",
     "output_type": "stream",
     "text": [
      "             precision    recall  f1-score   support\n",
      "\n",
      "    class 1       0.96      0.66      0.78     12435\n",
      "    class 2       0.45      0.92      0.61      3846\n",
      "\n",
      "avg / total       0.84      0.72      0.74     16281\n",
      "\n"
     ]
    }
   ],
   "source": [
    "ytest_ = predict(X_test, weight_gd)\n",
    "target_names = ['class 1', 'class 2']\n",
    "print(classification_report(y_test, ytest_.T[0], target_names=target_names))"
   ]
  },
  {
   "cell_type": "code",
   "execution_count": 10,
   "metadata": {
    "collapsed": true
   },
   "outputs": [],
   "source": [
    "def train_in_NAG(X_train, y_train, X_test, y_test):\n",
    "    a = 0.1\n",
    "    percent = 0.2\n",
    "    id_list = [x for x in range(0, X_train.shape[0])]\n",
    "    \n",
    "    train_loss = []\n",
    "    test_loss = []\n",
    "    \n",
    "    app = np.ones(X_train.shape[0]).reshape(-1, 1)\n",
    "    X_train = np.append(X_train,app,axis=1)\n",
    "    \n",
    "    app_test = np.ones(X_test.shape[0]).reshape(-1, 1)\n",
    "    app_test_zeors = np.zeros(X_test.shape[0]).reshape(-1, 1)\n",
    "    X_test = np.append(X_test,app_test_zeors,axis=1)\n",
    "    X_test = np.append(X_test,app_test,axis=1)\n",
    "    weight = random.random(size=(X_train.shape[1], 1))\n",
    "    \n",
    "    vt = 0\n",
    "    theta = 0.9\n",
    "    for i in range(iters):\n",
    "        id_ = rd.sample(id_list, int(X_train.shape[0] * percent)) \n",
    "        X_train_sub = X_train[id_]\n",
    "        y_train_sub = y_train[id_]\n",
    "        \n",
    "        weight_ = weight - theta * vt\n",
    "        z = np.dot(X_train, weight)\n",
    "        e = math.e * np.ones(z.shape)\n",
    "        \n",
    "        y_ = 1 / (1 + np.power(e, -z))\n",
    "        loss = (y_train.reshape(-1, 1) * np.log(y_)) + ((1 - y_train.reshape(-1, 1)) * np.log(1 - y_))\n",
    "        loss = -(np.mean(loss))\n",
    "        train_loss.append(loss)\n",
    "        #print(loss)\n",
    "        z_test = np.dot(X_test, weight)\n",
    "        e_test = math.e * np.ones(z_test.shape)\n",
    "        \n",
    "#         e_test = np.array(e_test, dtype=np.float96)\n",
    "#         z_test = np.array(z_test, dtype=np.float96)\n",
    "        \n",
    "        ytest_ = 1 / (1 + np.power(e_test, -z_test))\n",
    "        loss_ = (y_test.reshape(-1, 1) * np.log(ytest_)) + ((1 - y_test.reshape(-1, 1)) * np.log(1 - ytest_))\n",
    "        loss_ = -(np.mean(loss_))\n",
    "        test_loss.append(loss_)\n",
    "        #print(X_train.shape[1])\n",
    "\n",
    "        z = np.dot(X_train_sub, weight_)\n",
    "        e = math.e * np.ones(z.shape)\n",
    "        \n",
    "#         e = np.array(e, dtype=np.float96)\n",
    "#         z = np.array(z, dtype=np.float96)\n",
    "        \n",
    "        y_ = 1 / (1 + np.power(e, -z))\n",
    "        \n",
    "        d = (y_ - y_train_sub.reshape(-1, 1)) * X_train_sub\n",
    "        d = np.mean(d, axis=0)\n",
    "        vt = theta * vt + a * d.reshape(-1, 1)\n",
    "        weight = weight - vt\n",
    "        #print(weight[0][0])\n",
    "    return train_loss, test_loss, weight"
   ]
  },
  {
   "cell_type": "code",
   "execution_count": 11,
   "metadata": {
    "collapsed": false
   },
   "outputs": [],
   "source": [
    "train_loss_NAG, test_loss_NAG, weight_NAG = train_in_NAG(X_train, y_train, X_test, y_test)"
   ]
  },
  {
   "cell_type": "code",
   "execution_count": 12,
   "metadata": {
    "collapsed": false
   },
   "outputs": [
    {
     "data": {
      "image/png": "[encoded data removed]",
      "text/plain": [
       "<matplotlib.figure.Figure at 0x140de306550>"
      ]
     },
     "metadata": {},
     "output_type": "display_data"
    }
   ],
   "source": [
    "%matplotlib inline\n",
    "plot_x = np.linspace(1, iters, iters)\n",
    "train_loss_NAG = np.array(train_loss_NAG)\n",
    "test_loss_NAG = np.array(test_loss_NAG)\n",
    "plt.figure(1)\n",
    "plt.plot(plot_x, train_loss_NAG, label=\"training loss\")\n",
    "plt.plot(plot_x, test_loss_NAG, label=\"test loss\")\n",
    "plt.legend(loc=\"upper right\")\n",
    "plt.xlabel('Iterations')\n",
    "plt.ylabel('Loss')\n",
    "plt.show()"
   ]
  },
  {
   "cell_type": "code",
   "execution_count": 13,
   "metadata": {
    "collapsed": false
   },
   "outputs": [
    {
     "name": "stdout",
     "output_type": "stream",
     "text": [
      "             precision    recall  f1-score   support\n",
      "\n",
      "    class 1       0.98      0.59      0.74     12435\n",
      "    class 2       0.42      0.96      0.59      3846\n",
      "\n",
      "avg / total       0.85      0.68      0.70     16281\n",
      "\n"
     ]
    }
   ],
   "source": [
    "ytest_ = predict(X_test, weight_NAG)\n",
    "target_names = ['class 1', 'class 2']\n",
    "print(classification_report(y_test, ytest_.T[0], target_names=target_names))"
   ]
  },
  {
   "cell_type": "code",
   "execution_count": 14,
   "metadata": {
    "collapsed": true
   },
   "outputs": [],
   "source": [
    "def train_in_RMSProp(X_train, y_train, X_test, y_test):\n",
    "    a = 0.02\n",
    "    \n",
    "    percent = 0.2\n",
    "    id_list = [x for x in range(0, X_train.shape[0])]\n",
    "    \n",
    "    train_loss = []\n",
    "    test_loss = []\n",
    "    \n",
    "    app = np.ones(X_train.shape[0]).reshape(-1, 1)\n",
    "    X_train = np.append(X_train,app,axis=1)\n",
    "    \n",
    "    app_test = np.ones(X_test.shape[0]).reshape(-1, 1)\n",
    "    app_test_zeors = np.zeros(X_test.shape[0]).reshape(-1, 1)\n",
    "    X_test = np.append(X_test,app_test_zeors,axis=1)\n",
    "    X_test = np.append(X_test,app_test,axis=1)\n",
    "    weight = random.random(size=(X_train.shape[1], 1))\n",
    "    \n",
    "    gt = 0\n",
    "    epsilon = 1e-8\n",
    "    gamma = 0.9\n",
    "    for i in range(iters):\n",
    "        \n",
    "        id_ = rd.sample(id_list, int(X_train.shape[0] * percent)) \n",
    "        X_train_sub = X_train[id_]\n",
    "        y_train_sub = y_train[id_]\n",
    "        \n",
    "        z = np.dot(X_train, weight)\n",
    "        e = math.e * np.ones(z.shape)\n",
    "        \n",
    "        y_ = 1 / (1 + np.power(e, -z))\n",
    "        loss = (y_train.reshape(-1, 1) * np.log(y_)) + ((1 - y_train.reshape(-1, 1)) * np.log(1 - y_))\n",
    "        loss = -(np.mean(loss))\n",
    "        train_loss.append(loss)\n",
    "        #print(loss)\n",
    "        z_test = np.dot(X_test, weight)\n",
    "        e_test = math.e * np.ones(z_test.shape)\n",
    "        \n",
    "        ytest_ = 1 / (1 + np.power(e_test, -z_test))\n",
    "        loss_ = (y_test.reshape(-1, 1) * np.log(ytest_)) + ((1 - y_test.reshape(-1, 1)) * np.log(1 - ytest_))\n",
    "        loss_ = -(np.mean(loss_))\n",
    "        test_loss.append(loss_)\n",
    "\n",
    "        z = np.dot(X_train_sub, weight)\n",
    "        e = math.e * np.ones(z.shape)\n",
    "        \n",
    "        y_ = 1 / (1 + np.power(e, -z))\n",
    "        \n",
    "        d = (y_ - y_train_sub.reshape(-1, 1)) * X_train_sub\n",
    "        d = np.mean(d, axis=0)\n",
    "        gt = gamma * gt + (1 - gamma) * d * d\n",
    "\n",
    "        weight = weight - (a / np.sqrt(gt + epsilon)) * d\n",
    "    return train_loss, test_loss, weight"
   ]
  },
  {
   "cell_type": "code",
   "execution_count": 15,
   "metadata": {
    "collapsed": false
   },
   "outputs": [],
   "source": [
    "train_loss_RMSProp, test_loss_RMSProp, weight_RMSProp = train_in_RMSProp(X_train, y_train, X_test, y_test)"
   ]
  },
  {
   "cell_type": "code",
   "execution_count": 16,
   "metadata": {
    "collapsed": false
   },
   "outputs": [
    {
     "data": {
      "image/png": "[encoded data removed]",
      "text/plain": [
       "<matplotlib.figure.Figure at 0x140de4bd7f0>"
      ]
     },
     "metadata": {},
     "output_type": "display_data"
    }
   ],
   "source": [
    "%matplotlib inline\n",
    "plot_x = np.linspace(1, iters, iters)\n",
    "train_loss_RMSProp = np.array(train_loss_RMSProp)\n",
    "test_loss_RMSProp = np.array(test_loss_RMSProp)\n",
    "plt.figure(1)\n",
    "plt.plot(plot_x, train_loss_RMSProp, label=\"training loss\")\n",
    "plt.plot(plot_x, test_loss_RMSProp, label=\"test loss\")\n",
    "plt.legend(loc=\"upper right\")\n",
    "plt.xlabel('Iterations')\n",
    "plt.ylabel('Loss')\n",
    "plt.show()"
   ]
  },
  {
   "cell_type": "code",
   "execution_count": 17,
   "metadata": {
    "collapsed": false
   },
   "outputs": [
    {
     "name": "stdout",
     "output_type": "stream",
     "text": [
      "             precision    recall  f1-score   support\n",
      "\n",
      "    class 1       0.76      1.00      0.87     12435\n",
      "    class 2       0.00      0.00      0.00      3846\n",
      "\n",
      "avg / total       0.58      0.76      0.66     16281\n",
      "\n"
     ]
    },
    {
     "name": "stderr",
     "output_type": "stream",
     "text": [
      "F:\\python\\Anaconda3\\lib\\site-packages\\sklearn\\metrics\\classification.py:1135: UndefinedMetricWarning: Precision and F-score are ill-defined and being set to 0.0 in labels with no predicted samples.\n",
      "  'precision', 'predicted', average, warn_for)\n"
     ]
    }
   ],
   "source": [
    "ytest_ = predict(X_test, weight_RMSProp)\n",
    "target_names = ['class 1', 'class 2']\n",
    "print(classification_report(y_test, ytest_.T[0], target_names=target_names))"
   ]
  },
  {
   "cell_type": "code",
   "execution_count": 18,
   "metadata": {
    "collapsed": true
   },
   "outputs": [],
   "source": [
    "def train_in_AdaDelta(X_train, y_train, X_test, y_test):\n",
    "    a = 0.1\n",
    "    \n",
    "    percent = 0.2\n",
    "    id_list = [x for x in range(0, X_train.shape[0])]\n",
    "    \n",
    "    train_loss = []\n",
    "    test_loss = []\n",
    "    \n",
    "    app = np.ones(X_train.shape[0]).reshape(-1, 1)\n",
    "    X_train = np.append(X_train,app,axis=1)\n",
    "    \n",
    "    app_test = np.ones(X_test.shape[0]).reshape(-1, 1)\n",
    "    app_test_zeors = np.zeros(X_test.shape[0]).reshape(-1, 1)\n",
    "    X_test = np.append(X_test,app_test_zeors,axis=1)\n",
    "    X_test = np.append(X_test,app_test,axis=1)\n",
    "    weight = random.random(size=(X_train.shape[1], 1))\n",
    "    \n",
    "    gt = 0\n",
    "    epsilon = 1e-6\n",
    "    gamma = 0.95\n",
    "    t = 0\n",
    "    for i in range(iters):\n",
    "    \n",
    "        id_ = rd.sample(id_list, int(X_train.shape[0] * percent)) \n",
    "        X_train_sub = X_train[id_]\n",
    "        y_train_sub = y_train[id_]\n",
    "    \n",
    "        z = np.dot(X_train, weight)\n",
    "        e = math.e * np.ones(z.shape)\n",
    "        \n",
    "        y_ = 1 / (1 + np.power(e, -z))\n",
    "        loss = (y_train.reshape(-1, 1) * np.log(y_)) + ((1 - y_train.reshape(-1, 1)) * np.log(1 - y_))\n",
    "        loss = -(np.mean(loss))\n",
    "        train_loss.append(loss)\n",
    "        #print(loss)\n",
    "        z_test = np.dot(X_test, weight)\n",
    "        e_test = math.e * np.ones(z_test.shape)\n",
    "        \n",
    "        ytest_ = 1 / (1 + np.power(e_test, -z_test))\n",
    "        loss_ = (y_test.reshape(-1, 1) * np.log(ytest_)) + ((1 - y_test.reshape(-1, 1)) * np.log(1 - ytest_))\n",
    "        loss_ = -(np.mean(loss_))\n",
    "        test_loss.append(loss_)\n",
    "\n",
    "        z = np.dot(X_train_sub, weight)\n",
    "        e = math.e * np.ones(z.shape)\n",
    "        \n",
    "        y_ = 1 / (1 + np.power(e, -z))\n",
    "        \n",
    "        d = (y_ - y_train_sub.reshape(-1, 1)) * X_train_sub\n",
    "        d = np.mean(d, axis=0)\n",
    "        gt = gamma * gt + (1 - gamma) * d * d\n",
    "        wt = - np.sqrt(t + epsilon) / np.sqrt(gt + epsilon) * d\n",
    "        weight = weight + wt\n",
    "        t = gamma * t + (1 - gamma) * wt * wt\n",
    "    return train_loss, test_loss, weight"
   ]
  },
  {
   "cell_type": "code",
   "execution_count": 19,
   "metadata": {
    "collapsed": false
   },
   "outputs": [],
   "source": [
    "train_loss_AdaDelta, test_loss_AdaDelta, weigh_AdaDelta = train_in_AdaDelta(X_train, y_train, X_test, y_test)"
   ]
  },
  {
   "cell_type": "code",
   "execution_count": 20,
   "metadata": {
    "collapsed": false
   },
   "outputs": [
    {
     "data": {
      "image/png": "[encoded data removed]",
      "text/plain": [
       "<matplotlib.figure.Figure at 0x140dc021ef0>"
      ]
     },
     "metadata": {},
     "output_type": "display_data"
    }
   ],
   "source": [
    "%matplotlib inline\n",
    "plot_x = np.linspace(1, iters, iters)\n",
    "train_loss_AdaDelta = np.array(train_loss_AdaDelta)\n",
    "test_loss_AdaDelta = np.array(test_loss_AdaDelta)\n",
    "plt.figure(1)\n",
    "plt.plot(plot_x, train_loss_AdaDelta, label=\"training loss\")\n",
    "plt.plot(plot_x, test_loss_AdaDelta, label=\"test loss\")\n",
    "plt.legend(loc=\"upper right\")\n",
    "plt.xlabel('Iterations')\n",
    "plt.ylabel('Loss')\n",
    "plt.show()"
   ]
  },
  {
   "cell_type": "code",
   "execution_count": 21,
   "metadata": {
    "collapsed": false
   },
   "outputs": [
    {
     "name": "stdout",
     "output_type": "stream",
     "text": [
      "             precision    recall  f1-score   support\n",
      "\n",
      "    class 1       0.76      1.00      0.87     12435\n",
      "    class 2       0.00      0.00      0.00      3846\n",
      "\n",
      "avg / total       0.58      0.76      0.66     16281\n",
      "\n"
     ]
    },
    {
     "name": "stderr",
     "output_type": "stream",
     "text": [
      "F:\\python\\Anaconda3\\lib\\site-packages\\sklearn\\metrics\\classification.py:1135: UndefinedMetricWarning: Precision and F-score are ill-defined and being set to 0.0 in labels with no predicted samples.\n",
      "  'precision', 'predicted', average, warn_for)\n"
     ]
    }
   ],
   "source": [
    "ytest_ = predict(X_test, weigh_AdaDelta)\n",
    "target_names = ['class 1', 'class 2']\n",
    "print(classification_report(y_test, ytest_.T[0], target_names=target_names))"
   ]
  },
  {
   "cell_type": "code",
   "execution_count": 22,
   "metadata": {
    "collapsed": true
   },
   "outputs": [],
   "source": [
    "def train_in_Adam(X_train, y_train, X_test, y_test): \n",
    "    \n",
    "    percent = 0.2\n",
    "    id_list = [x for x in range(0, X_train.shape[0])]\n",
    "    \n",
    "    train_loss = []\n",
    "    test_loss = []\n",
    "    \n",
    "    app = np.ones(X_train.shape[0]).reshape(-1, 1)\n",
    "    X_train = np.append(X_train,app,axis=1)\n",
    "    \n",
    "    app_test = np.ones(X_test.shape[0]).reshape(-1, 1)\n",
    "    app_test_zeors = np.zeros(X_test.shape[0]).reshape(-1, 1)\n",
    "    X_test = np.append(X_test,app_test_zeors,axis=1)\n",
    "    X_test = np.append(X_test,app_test,axis=1)\n",
    "    weight = random.random(size=(X_train.shape[1], 1))\n",
    "    \n",
    "    gt = 0\n",
    "    epsilon = 0.001\n",
    "    gamma = 0.999\n",
    "    mt = 0\n",
    "    a = 0.01\n",
    "    beta = 0.9\n",
    "    t = 0\n",
    "    for i in range(iters):\n",
    "        \n",
    "        id_ = rd.sample(id_list, int(X_train.shape[0] * percent)) \n",
    "        X_train_sub = X_train[id_]\n",
    "        y_train_sub = y_train[id_]\n",
    "        \n",
    "        t = t + 1\n",
    "        \n",
    "        z = np.dot(X_train, weight)\n",
    "        e = math.e * np.ones(z.shape)\n",
    "        \n",
    "        y_ = 1 / (1 + np.power(e, -z))\n",
    "        loss = (y_train.reshape(-1, 1) * np.log(y_)) + ((1 - y_train.reshape(-1, 1)) * np.log(1 - y_))\n",
    "        loss = -(np.mean(loss))\n",
    "        train_loss.append(loss)\n",
    "        #print(loss)\n",
    "        z_test = np.dot(X_test, weight)\n",
    "        e_test = math.e * np.ones(z_test.shape)\n",
    "        \n",
    "        ytest_ = 1 / (1 + np.power(e_test, -z_test))\n",
    "        loss_ = (y_test.reshape(-1, 1) * np.log(ytest_)) + ((1 - y_test.reshape(-1, 1)) * np.log(1 - ytest_))\n",
    "        loss_ = -(np.mean(loss_))\n",
    "        test_loss.append(loss_)\n",
    "\n",
    "        z = np.dot(X_train_sub, weight)\n",
    "        e = math.e * np.ones(z.shape)\n",
    "        \n",
    "        y_ = 1 / (1 + np.power(e, -z))\n",
    "        \n",
    "        d = (y_ - y_train_sub.reshape(-1, 1)) * X_train_sub\n",
    "        d = np.mean(d, axis=0)\n",
    "        mt = beta * mt + (1 - beta) * d\n",
    "        gt = gamma * gt + (1 - gamma) * d * d\n",
    "        \n",
    "        mt_ = mt / (1 - np.power(beta, t))\n",
    "        gt_ = gt / (1 - np.power(gamma, t))\n",
    "        \n",
    "        weight = weight - a * mt_ / (np.sqrt(gt_) + epsilon )\n",
    "    return train_loss, test_loss, weight"
   ]
  },
  {
   "cell_type": "code",
   "execution_count": 23,
   "metadata": {
    "collapsed": false
   },
   "outputs": [],
   "source": [
    "train_loss_Adam, test_loss_Adam, weigh_Adam = train_in_Adam(X_train, y_train, X_test, y_test)"
   ]
  },
  {
   "cell_type": "code",
   "execution_count": 24,
   "metadata": {
    "collapsed": false
   },
   "outputs": [
    {
     "data": {
      "image/png": "[encoded data removed]",
      "text/plain": [
       "<matplotlib.figure.Figure at 0x140dc0269b0>"
      ]
     },
     "metadata": {},
     "output_type": "display_data"
    }
   ],
   "source": [
    "%matplotlib inline\n",
    "plot_x = np.linspace(1, iters, iters)\n",
    "train_loss_Adam = np.array(train_loss_Adam)\n",
    "test_loss_Adam = np.array(test_loss_Adam)\n",
    "plt.figure(1)\n",
    "plt.plot(plot_x, train_loss_Adam, label=\"training loss\")\n",
    "plt.plot(plot_x, test_loss_Adam, label=\"test loss\")\n",
    "plt.legend(loc=\"upper right\")\n",
    "plt.xlabel('Iterations')\n",
    "plt.ylabel('Loss')\n",
    "plt.show()"
   ]
  },
  {
   "cell_type": "code",
   "execution_count": 25,
   "metadata": {
    "collapsed": false
   },
   "outputs": [
    {
     "name": "stdout",
     "output_type": "stream",
     "text": [
      "             precision    recall  f1-score   support\n",
      "\n",
      "    class 1       0.76      1.00      0.87     12435\n",
      "    class 2       0.00      0.00      0.00      3846\n",
      "\n",
      "avg / total       0.58      0.76      0.66     16281\n",
      "\n"
     ]
    },
    {
     "name": "stderr",
     "output_type": "stream",
     "text": [
      "F:\\python\\Anaconda3\\lib\\site-packages\\sklearn\\metrics\\classification.py:1135: UndefinedMetricWarning: Precision and F-score are ill-defined and being set to 0.0 in labels with no predicted samples.\n",
      "  'precision', 'predicted', average, warn_for)\n"
     ]
    }
   ],
   "source": [
    "ytest_ = predict(X_test, weigh_Adam)\n",
    "target_names = ['class 1', 'class 2']\n",
    "print(classification_report(y_test, ytest_.T[0], target_names=target_names))"
   ]
  },
  {
   "cell_type": "code",
   "execution_count": 26,
   "metadata": {
    "collapsed": false
   },
   "outputs": [
    {
     "data": {
      "image/png": "[encoded data removed]",
      "text/plain": [
       "<matplotlib.figure.Figure at 0x140de8df748>"
      ]
     },
     "metadata": {},
     "output_type": "display_data"
    }
   ],
   "source": [
    "%matplotlib inline\n",
    "plt.figure(1)\n",
    "plt.plot(plot_x, train_loss_gd, label=\"Normal\")\n",
    "plt.plot(plot_x, train_loss_NAG, label=\"NAG\")\n",
    "plt.plot(plot_x, train_loss_RMSProp, label=\"RMSProp\")\n",
    "plt.plot(plot_x, train_loss_AdaDelta, label=\"AdaDelta\")\n",
    "plt.plot(plot_x, train_loss_Adam, label=\"Adam\")\n",
    "plt.legend(loc=\"upper right\")\n",
    "plt.xlabel('Iterations')\n",
    "plt.ylabel('Loss')\n",
    "plt.show()"
   ]
  },
  {
   "cell_type": "code",
   "execution_count": 27,
   "metadata": {
    "collapsed": false
   },
   "outputs": [
    {
     "data": {
      "image/png": "[encoded data removed]",
      "text/plain": [
       "<matplotlib.figure.Figure at 0x140dedcfa20>"
      ]
     },
     "metadata": {},
     "output_type": "display_data"
    }
   ],
   "source": [
    "%matplotlib inline\n",
    "plt.figure(1)\n",
    "plt.plot(plot_x, test_loss_gd, label=\"Normal\")\n",
    "plt.plot(plot_x, test_loss_NAG, label=\"NAG\")\n",
    "plt.plot(plot_x, test_loss_RMSProp, label=\"RMSProp\")\n",
    "plt.plot(plot_x, test_loss_AdaDelta, label=\"AdaDelta\")\n",
    "plt.plot(plot_x, test_loss_Adam, label=\"Adam\")\n",
    "plt.legend(loc=\"upper right\")\n",
    "plt.xlabel('Iterations')\n",
    "plt.ylabel('Loss')\n",
    "plt.show()"
   ]
  }
 ],
 "metadata": {
  "anaconda-cloud": {},
  "kernelspec": {
   "display_name": "Python [Root]",
   "language": "python",
   "name": "Python [Root]"
  },
  "language_info": {
   "codemirror_mode": {
    "name": "ipython",
    "version": 3
   },
   "file_extension": ".py",
   "mimetype": "text/x-python",
   "name": "python",
   "nbconvert_exporter": "python",
   "pygments_lexer": "ipython3",
   "version": "3.5.2"
  }
 },
 "nbformat": 4,
 "nbformat_minor": 2
}
